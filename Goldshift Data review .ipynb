{
 "cells": [
  {
   "cell_type": "code",
   "execution_count": 3,
   "id": "f6385fe9",
   "metadata": {},
   "outputs": [],
   "source": [
    "import pandas as pd\n",
    "import matplotlib.pyplot as plt \n",
    "import seaborn as sns\n",
    "import numpy as np\n"
   ]
  },
  {
   "cell_type": "code",
   "execution_count": 16,
   "id": "abb63b65",
   "metadata": {
    "scrolled": true
   },
   "outputs": [
    {
     "name": "stdout",
     "output_type": "stream",
     "text": [
      "<class 'pandas.core.frame.DataFrame'>\n",
      "RangeIndex: 5167 entries, 0 to 5166\n",
      "Data columns (total 52 columns):\n",
      " #   Column                      Non-Null Count  Dtype  \n",
      "---  ------                      --------------  -----  \n",
      " 0   date                        5167 non-null   object \n",
      " 1   chinese_yuan_to_usd         4794 non-null   float64\n",
      " 2   euro_to_usd                 5099 non-null   float64\n",
      " 3   japanese_yen_to_usd         4886 non-null   float64\n",
      " 4   uk_pound_to_usd             5074 non-null   float64\n",
      " 5   us_dollar_to_usd            5167 non-null   float64\n",
      " 6   algerian_dinar_to_usd       3276 non-null   float64\n",
      " 7   australian_dollar_to_usd    4937 non-null   float64\n",
      " 8   bahrain_dinar_to_usd        3762 non-null   float64\n",
      " 9   botswana_pula_to_usd        4836 non-null   float64\n",
      " 10  brazilian_real_to_usd       4690 non-null   float64\n",
      " 11  brunei_dollar_to_usd        4847 non-null   float64\n",
      " 12  canadian_dollar_to_usd      4784 non-null   float64\n",
      " 13  chilean_peso_to_usd         4917 non-null   float64\n",
      " 14  colombian_peso_to_usd       4058 non-null   float64\n",
      " 15  czech_koruna_to_usd         4955 non-null   float64\n",
      " 16  danish_krone_to_usd         4930 non-null   float64\n",
      " 17  hungarian_forint_to_usd     3641 non-null   float64\n",
      " 18  icelandic_krona_to_usd      3669 non-null   float64\n",
      " 19  indian_rupee_to_usd         4736 non-null   float64\n",
      " 20  indonesian_rupiah_to_usd    3540 non-null   float64\n",
      " 21  iranian_rial_to_usd         2762 non-null   float64\n",
      " 22  israeli_new_shekel_to_usd   4791 non-null   float64\n",
      " 23  kazakhstani_tenge_to_usd    3099 non-null   float64\n",
      " 24  korean_won_to_usd           4819 non-null   float64\n",
      " 25  kuwaiti_dinar_to_usd        4371 non-null   float64\n",
      " 26  libyan_dinar_to_usd         3760 non-null   float64\n",
      " 27  malaysian_ringgit_to_usd    4816 non-null   float64\n",
      " 28  mauritian_rupee_to_usd      4678 non-null   float64\n",
      " 29  mexican_peso_to_usd         4729 non-null   float64\n",
      " 30  nepalese_rupee_to_usd       3512 non-null   float64\n",
      " 31  new_zealand_dollar_to_usd   4936 non-null   float64\n",
      " 32  norwegian_krone_to_usd      4902 non-null   float64\n",
      " 33  omani_rial_to_usd           4810 non-null   float64\n",
      " 34  pakistani_rupee_to_usd      3420 non-null   float64\n",
      " 35  peruvian_sol_to_usd         3025 non-null   float64\n",
      " 36  philippine_peso_to_usd      3142 non-null   float64\n",
      " 37  polish_zloty_to_usd         4948 non-null   float64\n",
      " 38  qatari_riyal_to_usd         4807 non-null   float64\n",
      " 39  russian_ruble_to_usd        4784 non-null   float64\n",
      " 40  saudi_arabian_riyal_to_usd  4792 non-null   float64\n",
      " 41  singapore_dollar_to_usd     4935 non-null   float64\n",
      " 42  south_african_rand_to_usd   4694 non-null   float64\n",
      " 43  sri_lankan_rupee_to_usd     3501 non-null   float64\n",
      " 44  swedish_krona_to_usd        4885 non-null   float64\n",
      " 45  swiss_franc_to_usd          4970 non-null   float64\n",
      " 46  thai_baht_to_usd            4687 non-null   float64\n",
      " 47  trinidadian_dollar_to_usd   4593 non-null   float64\n",
      " 48  tunisian_dinar_to_usd       1880 non-null   float64\n",
      " 49  uae_dirham_to_usd           4818 non-null   float64\n",
      " 50  uruguayan_peso_to_usd       3085 non-null   float64\n",
      " 51  bolivar_fuerte_to_usd       2382 non-null   float64\n",
      "dtypes: float64(51), object(1)\n",
      "memory usage: 2.1+ MB\n"
     ]
    }
   ],
   "source": [
    "# YOUR CODE HERE\n",
    "file_path = '/Users/Nsumbana/Downloads/exchange_rate_to_usd.csv'\n",
    "\n",
    "# Read the CSV file\n",
    "data = pd.read_csv(file_path)\n",
    "\n",
    "data.info()"
   ]
  },
  {
   "cell_type": "code",
   "execution_count": null,
   "id": "52e85761",
   "metadata": {},
   "outputs": [],
   "source": [
    "selected_features = ['GrLivArea', 'BedroomAbvGr', 'KitchenAbvGr',\n",
    "                     'OverallCond',\n",
    "                     'RoofSurface',\n",
    "                     'GarageFinish',\n",
    "                     'CentralAir',\n",
    "                     'ChimneyStyle',\n",
    "                     'MoSold',\n",
    "                     'SalePrice']"
   ]
  },
  {
   "cell_type": "code",
   "execution_count": null,
   "id": "be398e51",
   "metadata": {},
   "outputs": [],
   "source": []
  },
  {
   "cell_type": "code",
   "execution_count": null,
   "id": "71b39aa3",
   "metadata": {},
   "outputs": [],
   "source": []
  },
  {
   "cell_type": "code",
   "execution_count": null,
   "id": "8503849e",
   "metadata": {},
   "outputs": [],
   "source": []
  }
 ],
 "metadata": {
  "kernelspec": {
   "display_name": "Python 3 (ipykernel)",
   "language": "python",
   "name": "python3"
  },
  "language_info": {
   "codemirror_mode": {
    "name": "ipython",
    "version": 3
   },
   "file_extension": ".py",
   "mimetype": "text/x-python",
   "name": "python",
   "nbconvert_exporter": "python",
   "pygments_lexer": "ipython3",
   "version": "3.10.6"
  },
  "toc": {
   "base_numbering": 1,
   "nav_menu": {},
   "number_sections": true,
   "sideBar": true,
   "skip_h1_title": false,
   "title_cell": "Table of Contents",
   "title_sidebar": "Contents",
   "toc_cell": false,
   "toc_position": {},
   "toc_section_display": true,
   "toc_window_display": false
  }
 },
 "nbformat": 4,
 "nbformat_minor": 5
}
